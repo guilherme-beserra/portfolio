{
  "nbformat": 4,
  "nbformat_minor": 0,
  "metadata": {
    "colab": {
      "name": "Analisando os Dados do Airbnb de Genebra.ipynb",
      "provenance": [],
      "collapsed_sections": [],
      "include_colab_link": true
    },
    "kernelspec": {
      "name": "python3",
      "display_name": "Python 3"
    }
  },
  "cells": [
    {
      "cell_type": "markdown",
      "metadata": {
        "id": "view-in-github",
        "colab_type": "text"
      },
      "source": [
        "<a href=\"https://colab.research.google.com/github/guilherme-beserra/portfolio/blob/master/Analisando_os_Dados_do_Airbnb_de_Genebra.ipynb\" target=\"_parent\"><img src=\"https://colab.research.google.com/assets/colab-badge.svg\" alt=\"Open In Colab\"/></a>"
      ]
    },
    {
      "cell_type": "markdown",
      "metadata": {
        "id": "kLI0gJtzDGuQ"
      },
      "source": [
        "<img alt=\"Colaboratory logo\" width=\"15%\" src=\"https://raw.githubusercontent.com/carlosfab/escola-data-science/master/img/novo_logo_bg_claro.png\">\n",
        "\n",
        "#### **Data Science na Prática 3.0**\n",
        "*by [sigmoidal.ai](https://sigmoidal.ai)*\n",
        "\n",
        "---\n",
        "\n",
        "# Análise dos Dados do Airbnb - *Genebra (Geneva)*\n",
        "\n",
        "O [Airbnb](https://www.airbnb.com.br/) já é considerado como sendo a **maior empresa hoteleira da atualidade**. Ah, o detalhe é que ele **não possui nenhum hotel**!\n",
        "\n",
        "Conectando pessoas que querem viajar (e se hospedar) com anfitriões que querem alugar seus imóveis de maneira prática, o Airbnb fornece uma plataforma inovadora para tornar essa hospedagem alternativa.\n",
        "\n",
        "No final de 2018, a Startup fundada 10 anos atrás, já havia **hospedado mais de 300 milhões** de pessoas ao redor de todo o mundo, desafiando as redes hoteleiras tradicionais.\n",
        "\n",
        "Uma das iniciativas do Airbnb é disponibilizar dados do site, para algumas das principais cidades do mundo. Por meio do portal [Inside Airbnb](http://insideairbnb.com/get-the-data.html), é possível baixar uma grande quantidade de dados para desenvolver projetos e soluções de *Data Science*.\n",
        "\n",
        "<center><img alt=\"Analisando Airbnb\" width=\"10%\" src=\"https://www.area360.com.au/wp-content/uploads/2017/09/airbnb-logo.jpg\"></center>\n",
        "\n",
        "<center><img alt=\"Visão central de Genebra\" width=\"50%\" src=\"https://www.nationsonline.org/gallery/Switzerland/Geneve-panorama.jpg\"</center>\n",
        "\n",
        "Panorama de Genebra da parte sudeste com o lago no centro.\n",
        "\n",
        "Imagem: Ork.ch\n",
        "\n",
        "Genebra é uma cidade na Suíça que fica na parte sul do vasto Lago Léman (Lago de Genebra). Rodeada pelas montanhas dos Alpes e do Jura, a cidade tem vista para o impressionante Mont Blanc. Sede das Nações Unidas e da Cruz Vermelha na Europa, é um centro diplomático e financeiro global. A influência francesa está por toda parte, no idioma, na gastronomia e em bairros boêmios.\n",
        "\n",
        "Elevação: 375 m\n",
        "\n",
        "Área: 15,93 km²\n",
        "\n",
        "População: 198.979 (2017) Organização das Nações Unidas\n",
        "\n",
        "Fonte: https://pt.wikipedia.org/wiki/Genebra\n",
        "\n",
        "**Neste *notebook*, iremos analisar os dados referentes à cidade de Genebra - Suiça, e ver quais insights podem ser extraídos a partir de dados brutos. Os dados estão atualizados até 21 de setembro de 2021.**"
      ]
    },
    {
      "cell_type": "code",
      "metadata": {
        "colab": {
          "base_uri": "https://localhost:8080/"
        },
        "id": "Fm6X5ekOp7fR",
        "outputId": "5611a567-0919-461b-dd01-4a1f1f9f756d"
      },
      "source": [
        "from google.colab import drive\n",
        "drive.mount('/content/drive')"
      ],
      "execution_count": 1,
      "outputs": [
        {
          "output_type": "stream",
          "name": "stdout",
          "text": [
            "Mounted at /content/drive\n"
          ]
        }
      ]
    },
    {
      "cell_type": "markdown",
      "metadata": {
        "id": "0zxQHhIUDF_2"
      },
      "source": [
        "## Obtenção dos Dados\n"
      ]
    },
    {
      "cell_type": "code",
      "metadata": {
        "id": "Vhp2wMPgJ6zX"
      },
      "source": [
        "# importando os pacotes necessários\n",
        "import pandas as pd\n",
        "import matplotlib.pyplot as plt\n",
        "import seaborn as sns"
      ],
      "execution_count": 1,
      "outputs": []
    },
    {
      "cell_type": "code",
      "metadata": {
        "id": "tUmoAT8DLQ5T"
      },
      "source": [
        "# importando o arquivo listings.csv para um DataFrame referente aos dados da cidade de Genebra (Geneve) - Suiça\n",
        "df_genebra = pd.read_csv(\"http://data.insideairbnb.com/switzerland/geneva/geneva/2021-07-19/visualisations/listings.csv\")"
      ],
      "execution_count": 2,
      "outputs": []
    },
    {
      "cell_type": "markdown",
      "metadata": {
        "id": "qb5By2nIMS6m"
      },
      "source": [
        "## Análise dos Dados\n"
      ]
    },
    {
      "cell_type": "markdown",
      "metadata": {
        "id": "RYgvuebKNg8-"
      },
      "source": [
        "**Dicionário das variáveis**\n",
        "\n",
        "* `id` - número de id gerado para identificar o imóvel\n",
        "* `name` - nome da propriedade anunciada\n",
        "* `host_id` - número de id do proprietário (locatário) da propriedade\n",
        "* `host_name` - nome do locatário\n",
        "* `neighbourhood_group` - coluna sem nenhum valor válido\n",
        "* `neighbourhood` - nome do bairro\n",
        "* `latitude` - coordenada da latitude do imóvel\n",
        "* `longitude` - coordenada da longitude do imóvel\n",
        "* `room_type` - informa o tipo de quarto oferecido\n",
        "* `price` - preço de aluguel do imóvel\n",
        "* `minimum_nights` - quantidade mínima de noites requeridas para reserva\n",
        "* `number_of_reviews` - número de avaliações do imóvel\n",
        "* `last_review` - data da última avaliação\n",
        "* `reviews_per_month` - quantidade de avaliações por mês\n",
        "* `calculated_host_listings_count` - quantidade de imóveis do mesmo locatário\n",
        "* `availability_365` - número de dias de disponibilidade dentro de 365 dias\n",
        "* `number_of_reviews_ltm` - número de avaliações nos últimos 12 meses\n",
        "* `license` - Airbnb / número de licença (coluna sem valor válido)\n",
        "\n",
        "Antes de iniciar qualquer análise, vamos verificar a cara do nosso *dataset*, analisando as 5 primeiras entradas."
      ]
    },
    {
      "cell_type": "code",
      "metadata": {
        "id": "2iS_dae7YQtO",
        "colab": {
          "base_uri": "https://localhost:8080/",
          "height": 547
        },
        "outputId": "fb9a7c37-1df3-495f-cf6e-8cc2f02dd583"
      },
      "source": [
        "# mostrando as cinco primeiras entradas para os imóveis anunciados\n",
        "df_genebra.head()"
      ],
      "execution_count": 3,
      "outputs": [
        {
          "output_type": "execute_result",
          "data": {
            "text/html": [
              "<div>\n",
              "<style scoped>\n",
              "    .dataframe tbody tr th:only-of-type {\n",
              "        vertical-align: middle;\n",
              "    }\n",
              "\n",
              "    .dataframe tbody tr th {\n",
              "        vertical-align: top;\n",
              "    }\n",
              "\n",
              "    .dataframe thead th {\n",
              "        text-align: right;\n",
              "    }\n",
              "</style>\n",
              "<table border=\"1\" class=\"dataframe\">\n",
              "  <thead>\n",
              "    <tr style=\"text-align: right;\">\n",
              "      <th></th>\n",
              "      <th>id</th>\n",
              "      <th>name</th>\n",
              "      <th>host_id</th>\n",
              "      <th>host_name</th>\n",
              "      <th>neighbourhood_group</th>\n",
              "      <th>neighbourhood</th>\n",
              "      <th>latitude</th>\n",
              "      <th>longitude</th>\n",
              "      <th>room_type</th>\n",
              "      <th>price</th>\n",
              "      <th>minimum_nights</th>\n",
              "      <th>number_of_reviews</th>\n",
              "      <th>last_review</th>\n",
              "      <th>reviews_per_month</th>\n",
              "      <th>calculated_host_listings_count</th>\n",
              "      <th>availability_365</th>\n",
              "      <th>number_of_reviews_ltm</th>\n",
              "      <th>license</th>\n",
              "    </tr>\n",
              "  </thead>\n",
              "  <tbody>\n",
              "    <tr>\n",
              "      <th>0</th>\n",
              "      <td>42515</td>\n",
              "      <td>Geneva center - Hosting females</td>\n",
              "      <td>185647</td>\n",
              "      <td>Noelle</td>\n",
              "      <td>NaN</td>\n",
              "      <td>Commune de Genève</td>\n",
              "      <td>46.20140</td>\n",
              "      <td>6.15507</td>\n",
              "      <td>Private room</td>\n",
              "      <td>73</td>\n",
              "      <td>14</td>\n",
              "      <td>58</td>\n",
              "      <td>2019-10-23</td>\n",
              "      <td>1.18</td>\n",
              "      <td>1</td>\n",
              "      <td>321</td>\n",
              "      <td>1</td>\n",
              "      <td>NaN</td>\n",
              "    </tr>\n",
              "    <tr>\n",
              "      <th>1</th>\n",
              "      <td>44959</td>\n",
              "      <td>Perfect Cozy Bedroom Close to Lake &amp; Transport</td>\n",
              "      <td>198343</td>\n",
              "      <td>Rita</td>\n",
              "      <td>NaN</td>\n",
              "      <td>Commune de Genève</td>\n",
              "      <td>46.19704</td>\n",
              "      <td>6.16076</td>\n",
              "      <td>Private room</td>\n",
              "      <td>59</td>\n",
              "      <td>1</td>\n",
              "      <td>49</td>\n",
              "      <td>2018-10-24</td>\n",
              "      <td>0.66</td>\n",
              "      <td>1</td>\n",
              "      <td>0</td>\n",
              "      <td>0</td>\n",
              "      <td>NaN</td>\n",
              "    </tr>\n",
              "    <tr>\n",
              "      <th>2</th>\n",
              "      <td>276025</td>\n",
              "      <td>Lovely flat by Geneva lake</td>\n",
              "      <td>1442438</td>\n",
              "      <td>Gaby</td>\n",
              "      <td>NaN</td>\n",
              "      <td>Versoix</td>\n",
              "      <td>46.27944</td>\n",
              "      <td>6.16724</td>\n",
              "      <td>Entire home/apt</td>\n",
              "      <td>65</td>\n",
              "      <td>7</td>\n",
              "      <td>107</td>\n",
              "      <td>2019-05-14</td>\n",
              "      <td>1.14</td>\n",
              "      <td>1</td>\n",
              "      <td>292</td>\n",
              "      <td>8</td>\n",
              "      <td>NaN</td>\n",
              "    </tr>\n",
              "    <tr>\n",
              "      <th>3</th>\n",
              "      <td>325986</td>\n",
              "      <td>Stylish loft in Pâquis, next to UN</td>\n",
              "      <td>1667362</td>\n",
              "      <td>Virna</td>\n",
              "      <td>NaN</td>\n",
              "      <td>Commune de Genève</td>\n",
              "      <td>46.21428</td>\n",
              "      <td>6.14610</td>\n",
              "      <td>Entire home/apt</td>\n",
              "      <td>150</td>\n",
              "      <td>3</td>\n",
              "      <td>104</td>\n",
              "      <td>2019-10-10</td>\n",
              "      <td>1.01</td>\n",
              "      <td>1</td>\n",
              "      <td>315</td>\n",
              "      <td>2</td>\n",
              "      <td>NaN</td>\n",
              "    </tr>\n",
              "    <tr>\n",
              "      <th>4</th>\n",
              "      <td>338682</td>\n",
              "      <td>Top location 1 block from the lake!</td>\n",
              "      <td>1001280</td>\n",
              "      <td>Mike</td>\n",
              "      <td>NaN</td>\n",
              "      <td>Commune de Genève</td>\n",
              "      <td>46.20682</td>\n",
              "      <td>6.15526</td>\n",
              "      <td>Entire home/apt</td>\n",
              "      <td>157</td>\n",
              "      <td>6</td>\n",
              "      <td>95</td>\n",
              "      <td>2020-03-07</td>\n",
              "      <td>1.01</td>\n",
              "      <td>2</td>\n",
              "      <td>46</td>\n",
              "      <td>8</td>\n",
              "      <td>NaN</td>\n",
              "    </tr>\n",
              "  </tbody>\n",
              "</table>\n",
              "</div>"
            ],
            "text/plain": [
              "       id  ... license\n",
              "0   42515  ...     NaN\n",
              "1   44959  ...     NaN\n",
              "2  276025  ...     NaN\n",
              "3  325986  ...     NaN\n",
              "4  338682  ...     NaN\n",
              "\n",
              "[5 rows x 18 columns]"
            ]
          },
          "metadata": {},
          "execution_count": 3
        }
      ]
    },
    {
      "cell_type": "markdown",
      "metadata": {
        "id": "6-B_qtEaYEd-"
      },
      "source": [
        "### **Q1. Quantos atributos (variáveis) e quantas entradas o nosso conjunto de dados possui? Quais os tipos das variáveis?**"
      ]
    },
    {
      "cell_type": "code",
      "metadata": {
        "id": "TFRK0tniLV-G",
        "colab": {
          "base_uri": "https://localhost:8080/"
        },
        "outputId": "83013975-37a1-44ac-dcb9-9a75d5cff597"
      },
      "source": [
        "# identificando o volume de dados do DataFrame dos imóveis\n",
        "print(\"Quantidade de entradas (linhas):\", df_genebra.shape[0])\n",
        "print(\"Quantidade de variáveis (colunas): {}\\n\".format(df_genebra.shape[1]))\n",
        "\n",
        "# verificar os tipos de entradas do dataset\n",
        "df_genebra.dtypes"
      ],
      "execution_count": 4,
      "outputs": [
        {
          "output_type": "stream",
          "name": "stdout",
          "text": [
            "Quantidade de entradas (linhas): 2103\n",
            "Quantidade de variáveis (colunas): 18\n",
            "\n"
          ]
        },
        {
          "output_type": "execute_result",
          "data": {
            "text/plain": [
              "id                                  int64\n",
              "name                               object\n",
              "host_id                             int64\n",
              "host_name                          object\n",
              "neighbourhood_group               float64\n",
              "neighbourhood                      object\n",
              "latitude                          float64\n",
              "longitude                         float64\n",
              "room_type                          object\n",
              "price                               int64\n",
              "minimum_nights                      int64\n",
              "number_of_reviews                   int64\n",
              "last_review                        object\n",
              "reviews_per_month                 float64\n",
              "calculated_host_listings_count      int64\n",
              "availability_365                    int64\n",
              "number_of_reviews_ltm               int64\n",
              "license                           float64\n",
              "dtype: object"
            ]
          },
          "metadata": {},
          "execution_count": 4
        }
      ]
    },
    {
      "cell_type": "markdown",
      "metadata": {
        "id": "yz1urSUGW9iE"
      },
      "source": [
        "### **Q2. Qual a porcentagem de valores ausentes no *dataset*?**"
      ]
    },
    {
      "cell_type": "code",
      "metadata": {
        "id": "plk2FjbCXOqP",
        "colab": {
          "base_uri": "https://localhost:8080/"
        },
        "outputId": "a180362f-e3b4-42d9-b195-bb1b303abe8c"
      },
      "source": [
        "# ordenar em ordem decrescente as variáveis por seus valores ausentes\n",
        "(df_genebra.isnull().sum()/df_genebra.shape[0]).sort_values(ascending = False)\n"
      ],
      "execution_count": 5,
      "outputs": [
        {
          "output_type": "execute_result",
          "data": {
            "text/plain": [
              "license                           1.000000\n",
              "neighbourhood_group               1.000000\n",
              "reviews_per_month                 0.248692\n",
              "last_review                       0.248692\n",
              "longitude                         0.000000\n",
              "name                              0.000000\n",
              "host_id                           0.000000\n",
              "host_name                         0.000000\n",
              "neighbourhood                     0.000000\n",
              "latitude                          0.000000\n",
              "room_type                         0.000000\n",
              "number_of_reviews_ltm             0.000000\n",
              "price                             0.000000\n",
              "minimum_nights                    0.000000\n",
              "number_of_reviews                 0.000000\n",
              "calculated_host_listings_count    0.000000\n",
              "availability_365                  0.000000\n",
              "id                                0.000000\n",
              "dtype: float64"
            ]
          },
          "metadata": {},
          "execution_count": 5
        }
      ]
    },
    {
      "cell_type": "code",
      "metadata": {
        "id": "m22v7m9BDucn"
      },
      "source": [
        "#eliminando as variáveis com dados ausentes\n",
        "df_genebra.drop(['neighbourhood_group', 'license'], axis = 1, inplace = True)"
      ],
      "execution_count": 6,
      "outputs": []
    },
    {
      "cell_type": "markdown",
      "metadata": {
        "id": "iHXvvHIxaoNc"
      },
      "source": [
        "### **Q3. Qual o tipo de distribuição das variáveis?** \n",
        "\n",
        "Para identificar a distribuição das variáveis, apresentaremos abaixo os histogramas. Percebemos alguns valores discrepantes (ouliers) nas principais variáveis: preço (price), mínimo de noites (minimum_nights) e avaliações por mês (reviews_per_month). "
      ]
    },
    {
      "cell_type": "code",
      "metadata": {
        "id": "q2wWSfeRbmBo",
        "colab": {
          "base_uri": "https://localhost:8080/",
          "height": 607
        },
        "outputId": "b5f0ce81-0aae-4b18-d2c3-6fe7d89aa540"
      },
      "source": [
        "# histograma das variáveis numéricas\n",
        "df_genebra.hist(bins=15, figsize=(15,10));"
      ],
      "execution_count": 7,
      "outputs": [
        {
          "output_type": "display_data",
          "data": {
            "image/png": "[encoded data removed]",
            "text/plain": [
              "<Figure size 1080x720 with 12 Axes>"
            ]
          },
          "metadata": {
            "needs_background": "light"
          }
        }
      ]
    },
    {
      "cell_type": "markdown",
      "metadata": {
        "id": "QNBs-dtvGrIP"
      },
      "source": [
        "### **Q4. Há *outliers* presentes?**\n",
        "Conforme item anterior verificamos valores discrepantes presentes. Vamos analisar mais de perto esse problema através do resumo estatístico (método \"describe\") e gráficos boxplots para as variáveis: `price` e `minimum_nights`."
      ]
    },
    {
      "cell_type": "code",
      "metadata": {
        "colab": {
          "base_uri": "https://localhost:8080/",
          "height": 297
        },
        "id": "Rx1Y9u6JHqaq",
        "outputId": "e85896f0-55b4-4c1f-f7b5-009163e69a33"
      },
      "source": [
        "# verificando o resumo estatístico para o preço e o mínimo de noites\n",
        "df_genebra[['price', 'minimum_nights']].describe()"
      ],
      "execution_count": null,
      "outputs": [
        {
          "output_type": "execute_result",
          "data": {
            "text/html": [
              "<div>\n",
              "<style scoped>\n",
              "    .dataframe tbody tr th:only-of-type {\n",
              "        vertical-align: middle;\n",
              "    }\n",
              "\n",
              "    .dataframe tbody tr th {\n",
              "        vertical-align: top;\n",
              "    }\n",
              "\n",
              "    .dataframe thead th {\n",
              "        text-align: right;\n",
              "    }\n",
              "</style>\n",
              "<table border=\"1\" class=\"dataframe\">\n",
              "  <thead>\n",
              "    <tr style=\"text-align: right;\">\n",
              "      <th></th>\n",
              "      <th>price</th>\n",
              "      <th>minimum_nights</th>\n",
              "    </tr>\n",
              "  </thead>\n",
              "  <tbody>\n",
              "    <tr>\n",
              "      <th>count</th>\n",
              "      <td>2103.000000</td>\n",
              "      <td>2103.000000</td>\n",
              "    </tr>\n",
              "    <tr>\n",
              "      <th>mean</th>\n",
              "      <td>129.575844</td>\n",
              "      <td>7.012839</td>\n",
              "    </tr>\n",
              "    <tr>\n",
              "      <th>std</th>\n",
              "      <td>140.618116</td>\n",
              "      <td>21.006825</td>\n",
              "    </tr>\n",
              "    <tr>\n",
              "      <th>min</th>\n",
              "      <td>22.000000</td>\n",
              "      <td>1.000000</td>\n",
              "    </tr>\n",
              "    <tr>\n",
              "      <th>25%</th>\n",
              "      <td>73.000000</td>\n",
              "      <td>1.000000</td>\n",
              "    </tr>\n",
              "    <tr>\n",
              "      <th>50%</th>\n",
              "      <td>100.000000</td>\n",
              "      <td>3.000000</td>\n",
              "    </tr>\n",
              "    <tr>\n",
              "      <th>75%</th>\n",
              "      <td>140.000000</td>\n",
              "      <td>5.000000</td>\n",
              "    </tr>\n",
              "    <tr>\n",
              "      <th>max</th>\n",
              "      <td>3000.000000</td>\n",
              "      <td>500.000000</td>\n",
              "    </tr>\n",
              "  </tbody>\n",
              "</table>\n",
              "</div>"
            ],
            "text/plain": [
              "             price  minimum_nights\n",
              "count  2103.000000     2103.000000\n",
              "mean    129.575844        7.012839\n",
              "std     140.618116       21.006825\n",
              "min      22.000000        1.000000\n",
              "25%      73.000000        1.000000\n",
              "50%     100.000000        3.000000\n",
              "75%     140.000000        5.000000\n",
              "max    3000.000000      500.000000"
            ]
          },
          "metadata": {},
          "execution_count": 8
        }
      ]
    },
    {
      "cell_type": "markdown",
      "metadata": {
        "id": "tWQEjP3IMECz"
      },
      "source": [
        "De acordo com o resumo estatístico, podemos verificar que a variável preço (`price`) possui 75% dos valores de preço abaixo de `€` 140, porém o valor máximo é `€`3000, demonstrando que este valor está muito discrepante. De forma semelhante, o número mínimo de noites (`minimum_nights`) tem 75% dos valores abaixo de 5 noites, mas o valor máximo chega a ultrapassar 1 ano: 500 noites.\n"
      ]
    },
    {
      "cell_type": "markdown",
      "metadata": {
        "id": "Bpta5LqSOD1-"
      },
      "source": [
        "#### Boxplot para mínimo de noites (`minimum_nights`)"
      ]
    },
    {
      "cell_type": "code",
      "metadata": {
        "colab": {
          "base_uri": "https://localhost:8080/",
          "height": 262
        },
        "id": "C0usKe82OF71",
        "outputId": "c01d7c9e-1116-4382-ad11-0f8aefff9ebd"
      },
      "source": [
        "df_genebra.minimum_nights.plot(kind='box', vert=False, figsize=(15, 3))\n",
        "plt.show()\n",
        "#apresentando os valores de mínimo de noites (minimum_nights) acima de 4\n",
        "print(\"valores acima de 4 (noites): \")\n",
        "print(\"{} entradas\".format(len(df_genebra[df_genebra.minimum_nights > 11])))\n",
        "print(\"{:.4f}%\".format((len(df_genebra[df_genebra.minimum_nights > 11]) / df_genebra.shape[0]) * 100))"
      ],
      "execution_count": 14,
      "outputs": [
        {
          "output_type": "display_data",
          "data": {
            "image/png": "[encoded data removed]",
            "text/plain": [
              "<Figure size 1080x216 with 1 Axes>"
            ]
          },
          "metadata": {
            "needs_background": "light"
          }
        },
        {
          "output_type": "stream",
          "name": "stdout",
          "text": [
            "valores acima de 4 (noites): \n",
            "243 entradas\n",
            "11.5549%\n"
          ]
        }
      ]
    },
    {
      "cell_type": "markdown",
      "metadata": {
        "id": "HMl5yNYMQibS"
      },
      "source": [
        "#### Boxplot para o preço por dia (`price`)"
      ]
    },
    {
      "cell_type": "code",
      "metadata": {
        "colab": {
          "base_uri": "https://localhost:8080/",
          "height": 262
        },
        "id": "J-GPHskgQxd8",
        "outputId": "1f5a28bc-90a2-431e-dfe7-88f33a6774d3"
      },
      "source": [
        "df_genebra.price.plot(kind='box', vert=False, figsize=(15, 3))\n",
        "plt.show()\n",
        "#apresentando os valores acima de 240.5 euros \n",
        "print(\"valores acima de €240.5: \")\n",
        "print(\"{} entradas\".format(len(df_genebra[df_genebra.price > 240.5])))\n",
        "print(\"{:.4f}%\".format((len(df_genebra[df_genebra.price > 240.5]) / df_genebra.shape[0]) * 100))"
      ],
      "execution_count": 12,
      "outputs": [
        {
          "output_type": "display_data",
          "data": {
            "image/png": "[encoded data removed]",
            "text/plain": [
              "<Figure size 1080x216 with 1 Axes>"
            ]
          },
          "metadata": {
            "needs_background": "light"
          }
        },
        {
          "output_type": "stream",
          "name": "stdout",
          "text": [
            "valores acima de €240: \n",
            "159 entradas\n",
            "7.5606%\n"
          ]
        }
      ]
    },
    {
      "cell_type": "markdown",
      "metadata": {
        "id": "OhPcbyYTYxFt"
      },
      "source": [
        "#### Histogramas sem *outliers* (valores discrepantes)\n",
        "\n",
        "Identificados *outliers* nas variáveis `price` e `minimum_nights`, removeremos essas entradas discrepantes do *DataFrame* e \"plotar\" novamente o histograma."
      ]
    },
    {
      "cell_type": "code",
      "metadata": {
        "colab": {
          "base_uri": "https://localhost:8080/"
        },
        "id": "k2cp2xzXc_G_",
        "outputId": "87c6f503-2bf6-42fb-ab50-e8d1624ada48"
      },
      "source": [
        "# identificando os outliers para a variável price\n",
        "q1_price = df_genebra.price.quantile(.25)\n",
        "q3_price = df_genebra.price.quantile(.75)\n",
        "IQR_price = q3_price - q1_price\n",
        "print('IQR da variável price: ', IQR_price)\n",
        "\n",
        "# definindo os limites                                       \n",
        "sup_price = q3_price + 1.5 * IQR_price\n",
        "inf_price = q1_price - 1.5 * IQR_price\n",
        "\n",
        "print('Limite superior de price: ', sup_price)\n",
        "print('Limite inferior de price: ', inf_price)\n",
        "\n",
        "# identificando os outliers para a variável minimum_nights\n",
        "q1_minimum_nights = df_genebra.minimum_nights.quantile(.25)\n",
        "q3_minimum_nights = df_genebra.minimum_nights.quantile(.75)\n",
        "IQR_minimum_nights = q3_minimum_nights - q1_minimum_nights\n",
        "print('IQR da variável minimum_nights: ', IQR_minimum_nights)\n",
        "\n",
        "# definindo os limites                                       \n",
        "sup_minimum_nights = q3_minimum_nights + 1.5 * IQR_minimum_nights\n",
        "inf_minimum_nights = q1_minimum_nights - 1.5 * IQR_minimum_nights\n",
        "\n",
        "print('Limite superior de minimum_nights: ', sup_minimum_nights)\n",
        "print('Limite inferior de minimum_nights: ', inf_minimum_nights)"
      ],
      "execution_count": 8,
      "outputs": [
        {
          "output_type": "stream",
          "name": "stdout",
          "text": [
            "IQR da variável price:  67.0\n",
            "Limite superior de price:  240.5\n",
            "Limite inferior de price:  -27.5\n",
            "IQR da variável minimum_nights:  4.0\n",
            "Limite superior de minimum_nights:  11.0\n",
            "Limite inferior de minimum_nights:  -5.0\n"
          ]
        }
      ]
    },
    {
      "cell_type": "code",
      "metadata": {
        "colab": {
          "base_uri": "https://localhost:8080/",
          "height": 607
        },
        "id": "PqYQb7yHZFS9",
        "outputId": "8c6cbb35-7b34-4dea-d155-61c1efc9c1ca"
      },
      "source": [
        "df_clean = df_genebra.copy()\n",
        "\n",
        "#apagando os ouliers\n",
        "df_clean.drop(labels=df_clean[df_clean.price > 240].index, inplace=True)\n",
        "df_clean.drop(df_clean[df_clean.price == 0.0].index, axis=0, inplace=True)\n",
        "df_clean.drop(labels=df_clean[df_clean.minimum_nights > 11].index, inplace=True)\n",
        "\n",
        "#apresentando o novo gráfico sem os outliers\n",
        "df_clean.hist(bins=15, figsize=(15,10));"
      ],
      "execution_count": 16,
      "outputs": [
        {
          "output_type": "display_data",
          "data": {
            "image/png": "[encoded data removed]",
            "text/plain": [
              "<Figure size 1080x720 with 12 Axes>"
            ]
          },
          "metadata": {
            "needs_background": "light"
          }
        }
      ]
    },
    {
      "cell_type": "markdown",
      "metadata": {
        "id": "5HeU56Ys9hiv"
      },
      "source": [
        "Os novos histogramas para as variáveis `price` e `minimum_nights` apresentaram uma maior proximidade da distribuição normal após a exclusão dos outliers.\n"
      ]
    },
    {
      "cell_type": "markdown",
      "metadata": {
        "id": "7x4aw1j5wNmn"
      },
      "source": [
        "### **Q4. Qual a média dos preços de aluguel?**\n",
        "\n",
        "A média de preços de aluguel em Genebra é € 102,64"
      ]
    },
    {
      "cell_type": "code",
      "metadata": {
        "id": "ff-8gUahLk-C",
        "colab": {
          "base_uri": "https://localhost:8080/"
        },
        "outputId": "03de3b6b-5b43-45f5-8bf7-c302ad688847"
      },
      "source": [
        "# ver a média da coluna `price``\n",
        "print(\"Média dos preços dos imóveis: €{:.2f}\".format(df_clean.price.mean()))"
      ],
      "execution_count": 19,
      "outputs": [
        {
          "output_type": "stream",
          "name": "stdout",
          "text": [
            "Média dos preços dos imóveis: €102.64\n"
          ]
        }
      ]
    },
    {
      "cell_type": "markdown",
      "metadata": {
        "id": "IXn2oIo5qx-w"
      },
      "source": [
        "### **Q4. Qual a correlação existente entre as variáveis?**"
      ]
    },
    {
      "cell_type": "code",
      "metadata": {
        "id": "x2ayzBajqxyd",
        "colab": {
          "base_uri": "https://localhost:8080/",
          "height": 235
        },
        "outputId": "ff4e1116-aa70-405c-ace0-07f50fdd23e8"
      },
      "source": [
        "# criando uma matriz de correlação\n",
        "corr = df_clean[['price', 'minimum_nights', 'number_of_reviews', 'reviews_per_month',\n",
        "    'calculated_host_listings_count', 'availability_365']].corr()\n",
        "# mostrando a matriz de correlação\n",
        "display(corr)"
      ],
      "execution_count": 20,
      "outputs": [
        {
          "output_type": "display_data",
          "data": {
            "text/html": [
              "<div>\n",
              "<style scoped>\n",
              "    .dataframe tbody tr th:only-of-type {\n",
              "        vertical-align: middle;\n",
              "    }\n",
              "\n",
              "    .dataframe tbody tr th {\n",
              "        vertical-align: top;\n",
              "    }\n",
              "\n",
              "    .dataframe thead th {\n",
              "        text-align: right;\n",
              "    }\n",
              "</style>\n",
              "<table border=\"1\" class=\"dataframe\">\n",
              "  <thead>\n",
              "    <tr style=\"text-align: right;\">\n",
              "      <th></th>\n",
              "      <th>price</th>\n",
              "      <th>minimum_nights</th>\n",
              "      <th>number_of_reviews</th>\n",
              "      <th>reviews_per_month</th>\n",
              "      <th>calculated_host_listings_count</th>\n",
              "      <th>availability_365</th>\n",
              "    </tr>\n",
              "  </thead>\n",
              "  <tbody>\n",
              "    <tr>\n",
              "      <th>price</th>\n",
              "      <td>1.000000</td>\n",
              "      <td>0.076773</td>\n",
              "      <td>-0.096293</td>\n",
              "      <td>-0.123694</td>\n",
              "      <td>0.087464</td>\n",
              "      <td>0.010258</td>\n",
              "    </tr>\n",
              "    <tr>\n",
              "      <th>minimum_nights</th>\n",
              "      <td>0.076773</td>\n",
              "      <td>1.000000</td>\n",
              "      <td>-0.161497</td>\n",
              "      <td>-0.245239</td>\n",
              "      <td>0.009835</td>\n",
              "      <td>-0.042055</td>\n",
              "    </tr>\n",
              "    <tr>\n",
              "      <th>number_of_reviews</th>\n",
              "      <td>-0.096293</td>\n",
              "      <td>-0.161497</td>\n",
              "      <td>1.000000</td>\n",
              "      <td>0.734492</td>\n",
              "      <td>-0.049409</td>\n",
              "      <td>0.055202</td>\n",
              "    </tr>\n",
              "    <tr>\n",
              "      <th>reviews_per_month</th>\n",
              "      <td>-0.123694</td>\n",
              "      <td>-0.245239</td>\n",
              "      <td>0.734492</td>\n",
              "      <td>1.000000</td>\n",
              "      <td>-0.021527</td>\n",
              "      <td>0.029308</td>\n",
              "    </tr>\n",
              "    <tr>\n",
              "      <th>calculated_host_listings_count</th>\n",
              "      <td>0.087464</td>\n",
              "      <td>0.009835</td>\n",
              "      <td>-0.049409</td>\n",
              "      <td>-0.021527</td>\n",
              "      <td>1.000000</td>\n",
              "      <td>-0.135285</td>\n",
              "    </tr>\n",
              "    <tr>\n",
              "      <th>availability_365</th>\n",
              "      <td>0.010258</td>\n",
              "      <td>-0.042055</td>\n",
              "      <td>0.055202</td>\n",
              "      <td>0.029308</td>\n",
              "      <td>-0.135285</td>\n",
              "      <td>1.000000</td>\n",
              "    </tr>\n",
              "  </tbody>\n",
              "</table>\n",
              "</div>"
            ],
            "text/plain": [
              "                                   price  ...  availability_365\n",
              "price                           1.000000  ...          0.010258\n",
              "minimum_nights                  0.076773  ...         -0.042055\n",
              "number_of_reviews              -0.096293  ...          0.055202\n",
              "reviews_per_month              -0.123694  ...          0.029308\n",
              "calculated_host_listings_count  0.087464  ...         -0.135285\n",
              "availability_365                0.010258  ...          1.000000\n",
              "\n",
              "[6 rows x 6 columns]"
            ]
          },
          "metadata": {}
        }
      ]
    },
    {
      "cell_type": "code",
      "metadata": {
        "id": "91UujDr6ueqE",
        "colab": {
          "base_uri": "https://localhost:8080/",
          "height": 411
        },
        "outputId": "669dc5a4-3a24-4609-b8a6-347d2b1b254d"
      },
      "source": [
        "# plotando um heatmap a partir das correlações\n",
        "sns.heatmap(corr, cmap='RdBu', fmt='.2f', square=True, linecolor='white', annot=True);"
      ],
      "execution_count": null,
      "outputs": [
        {
          "output_type": "display_data",
          "data": {
            "image/png": "[encoded data removed]",
            "text/plain": [
              "<Figure size 432x288 with 2 Axes>"
            ]
          },
          "metadata": {
            "needs_background": "light"
          }
        }
      ]
    },
    {
      "cell_type": "markdown",
      "metadata": {
        "id": "b5uJ8QgGAjn2"
      },
      "source": [
        "A maioria das variáveis tem uma correlação negativa em relação as demais. Por exemplo, quanto maior o preço, menor a quantidade mínima de noites necessárias para estadia."
      ]
    },
    {
      "cell_type": "markdown",
      "metadata": {
        "id": "7b6RMWpuHKN-"
      },
      "source": [
        "### **Q5. Qual o tipo de imóvel mais alugado no Airbnb?**"
      ]
    },
    {
      "cell_type": "code",
      "metadata": {
        "id": "ueLPNWvPHgfB",
        "colab": {
          "base_uri": "https://localhost:8080/"
        },
        "outputId": "9735d33a-bb42-40a3-cc98-1fb0a99277bf"
      },
      "source": [
        "# mostrando a quantidade de cada tipo de imóvel disponível\n",
        "df_clean.room_type.value_counts()"
      ],
      "execution_count": 21,
      "outputs": [
        {
          "output_type": "execute_result",
          "data": {
            "text/plain": [
              "Entire home/apt    1109\n",
              "Private room        590\n",
              "Shared room          10\n",
              "Hotel room            5\n",
              "Name: room_type, dtype: int64"
            ]
          },
          "metadata": {},
          "execution_count": 21
        }
      ]
    },
    {
      "cell_type": "markdown",
      "metadata": {
        "id": "lc3oODCDEKh_"
      },
      "source": [
        "Uma casa ou apartamento (completo) é o tipo de imóvel mais ofertado, com 1.109 unidades. Em seguida, com menos metade das ocorrências, aparece quarto privado."
      ]
    },
    {
      "cell_type": "code",
      "metadata": {
        "id": "EvwoO-XAHhIm",
        "colab": {
          "base_uri": "https://localhost:8080/"
        },
        "outputId": "786a6c85-a7e9-498e-8c26-b2d249cbaa67"
      },
      "source": [
        "# porcentagem de cada tipo de imóvel disponível\n",
        "df_clean.room_type.value_counts()/df_genebra.shape[0]"
      ],
      "execution_count": 22,
      "outputs": [
        {
          "output_type": "execute_result",
          "data": {
            "text/plain": [
              "Entire home/apt    0.527342\n",
              "Private room       0.280552\n",
              "Shared room        0.004755\n",
              "Hotel room         0.002378\n",
              "Name: room_type, dtype: float64"
            ]
          },
          "metadata": {},
          "execution_count": 22
        }
      ]
    },
    {
      "cell_type": "markdown",
      "metadata": {
        "id": "vl36spRTGy_p"
      },
      "source": [
        "Assim, cerca de 80% dos imóveis são do tipo casa/apartamento completo e quarto privado."
      ]
    },
    {
      "cell_type": "markdown",
      "metadata": {
        "id": "MFa5NbnLJMcd"
      },
      "source": [
        "### **Q6. Qual a localidade mais cara de Genebra?**\n",
        "\n"
      ]
    },
    {
      "cell_type": "code",
      "metadata": {
        "id": "MD_xa143JZpi",
        "colab": {
          "base_uri": "https://localhost:8080/"
        },
        "outputId": "c8c53998-c729-4ea6-e3d6-64b7810acbb2"
      },
      "source": [
        "# ver preços por bairros, na média\n",
        "df_clean.groupby(['neighbourhood']).price.mean().sort_values(ascending=False)"
      ],
      "execution_count": 23,
      "outputs": [
        {
          "output_type": "execute_result",
          "data": {
            "text/plain": [
              "neighbourhood\n",
              "Hermance              209.250000\n",
              "Cologny               137.263158\n",
              "Collex-Bossy          123.500000\n",
              "Pregny-Chambésy       122.562500\n",
              "Satigny               118.333333\n",
              "Perly-Certoux         112.333333\n",
              "Bellevue              111.500000\n",
              "Chêne-Bourg           109.636364\n",
              "Presinge              109.000000\n",
              "Plan-les-Ouates       107.214286\n",
              "Genthod               106.857143\n",
              "Commune de Genève     106.389731\n",
              "Meinier               105.500000\n",
              "Soral                 104.000000\n",
              "Chêne-Bougeries       103.896552\n",
              "Bardonnex             100.800000\n",
              "Russin                100.000000\n",
              "Dardagny              100.000000\n",
              "Confignon              97.800000\n",
              "Vandoeuvres            96.500000\n",
              "Collonge-Bellerive     94.625000\n",
              "Versoix                93.312500\n",
              "Carouge                92.618421\n",
              "Grand-Saconnex         89.820000\n",
              "Lancy                  89.431818\n",
              "Veyrier                87.722222\n",
              "Puplinge               85.750000\n",
              "Meyrin                 84.515152\n",
              "Choulex                83.000000\n",
              "Corsier                81.800000\n",
              "Thônex                 81.680000\n",
              "Vernier                80.638298\n",
              "Onex                   79.950000\n",
              "Troinex                77.333333\n",
              "Bernex                 77.166667\n",
              "Avully                 69.666667\n",
              "Jussy                  55.000000\n",
              "Gy                     54.000000\n",
              "Anières                50.750000\n",
              "Chancy                 50.000000\n",
              "Name: price, dtype: float64"
            ]
          },
          "metadata": {},
          "execution_count": 23
        }
      ]
    },
    {
      "cell_type": "markdown",
      "metadata": {
        "id": "r8UIqvX3MWFv"
      },
      "source": [
        "Hermance é a localidade mais cara para locação, com média de preço em € 209,25 bem acima das demais localidades. \n",
        "\n",
        "O lugar mais barato, em média, é o Chancy (€ 50).\n",
        "\n",
        "Hermance é uma comuna suíça do Cantão de Genebra na margem esquerda do Lago Lemano. Faz fronteira com Alta Saboia francesa.\n",
        "Encontra-se na chamada Região Lemánica e mais precisamente na parte chamada de Lago de Genebra do Pequeno Lago. \n",
        "\n",
        "Chancy é uma comuna suíça do Cantão de Genebra que tem Avully e Avusy a Norte e Esta. Segundo o Departamento Federal de Estatísticas, Chancy ocupa uma superfície de 5.36 km2 com uma cobertura agrícola de 32 % e unicamente 11 % habitável, motivo pelo qual deve seu valor mais baixo.\n",
        "\n",
        "Fonte: https://pt.wikipedia.org/wiki/Hermance"
      ]
    },
    {
      "cell_type": "code",
      "metadata": {
        "id": "UxVJqJ_3W59I",
        "colab": {
          "base_uri": "https://localhost:8080/",
          "height": 469
        },
        "outputId": "7e7af0b0-181c-49fd-ee2f-690739d6679f"
      },
      "source": [
        "# plotando os imóveis pela latitude-longitude\n",
        "df_clean.plot(kind=\"scatter\", x='longitude', y='latitude', alpha=0.4, c=df_clean['price'], s=8,\n",
        "              cmap=plt.get_cmap('jet'), figsize=(12,8));"
      ],
      "execution_count": 24,
      "outputs": [
        {
          "output_type": "display_data",
          "data": {
            "image/png": "[encoded data removed]",
            "text/plain": [
              "<Figure size 864x576 with 2 Axes>"
            ]
          },
          "metadata": {
            "needs_background": "light"
          }
        }
      ]
    },
    {
      "cell_type": "markdown",
      "metadata": {
        "id": "vTneAMRUYvr1"
      },
      "source": [
        "### **Q7. Qual é a média do mínimo de noites para aluguel (minimum_nights)?**"
      ]
    },
    {
      "cell_type": "code",
      "metadata": {
        "id": "_VzNhrEgY82N",
        "colab": {
          "base_uri": "https://localhost:8080/"
        },
        "outputId": "2c760ef9-a58e-45a1-de01-c8b0a2782068"
      },
      "source": [
        "# ver a média da coluna `minimum_nights``\n",
        "\n",
        "df_clean.groupby(['minimum_nights']).price.mean().sort_values(ascending=False)"
      ],
      "execution_count": 25,
      "outputs": [
        {
          "output_type": "execute_result",
          "data": {
            "text/plain": [
              "minimum_nights\n",
              "9     154.333333\n",
              "8     113.400000\n",
              "4     112.508671\n",
              "5     109.277778\n",
              "2     107.379233\n",
              "3     106.536122\n",
              "7     105.403509\n",
              "11    105.000000\n",
              "6     100.978723\n",
              "1      91.495069\n",
              "10     87.709677\n",
              "Name: price, dtype: float64"
            ]
          },
          "metadata": {},
          "execution_count": 25
        }
      ]
    },
    {
      "cell_type": "markdown",
      "metadata": {
        "id": "qQwl6lPNO4SX"
      },
      "source": [
        "Os imóveis que exigem apenas o mínimo de 1 (uma) noite tem preço médio de € 91,49, inferior a média geral de preço que é de € 102,64. Para o mínimo de duas noites, a média de preço já aumenta para € 107,37."
      ]
    },
    {
      "cell_type": "markdown",
      "metadata": {
        "id": "GkvAg623RjoR"
      },
      "source": [
        "## Conclusões\n"
      ]
    },
    {
      "cell_type": "markdown",
      "metadata": {
        "id": "rbZ3Hsy9Ypw8"
      },
      "source": [
        "Conforme os dados apresentados até 21 de setembro de 2021. Alguns dados discrepantes (`outliers`) foram removidos para uma melhor análise, principalmente naqueles onde os preços eram muito superiores à media e o número mínimo de noites de permanência eram superiores a 30 noites.\n",
        "\n",
        "Genebra possui uma média de preço de uma diária em cerca de € 102,64, demonstrando uma opção relativamente cara tendo em vista a desvalorização do Real, em que 1,00 Euro Tur vale hoje (15/10/2021) R$ 6,6927. A maioria das opções de locação se referem a casas ou quartos completos (sem compartilhamento de cômodos).\n",
        "\n",
        "A localidade de Hermance, à beira do rio Genebra, possui os valores mais altos para locação mas outras localidades à beira do rio podem ser mais em conta como por exemplo, Cologny com preço médio de € 137,26. \n",
        "\n",
        "Os lugares mais baratos são os mais distantes do rio, como mostrado anteriormente no caso da comuna Suiça de Chancy, custando em média € 50.\n",
        "\n",
        "Destacamos que o conjunto de dados é uma versão resumida, mais adequada para uma análise inicial. "
      ]
    }
  ]
}